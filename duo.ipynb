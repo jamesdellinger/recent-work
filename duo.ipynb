{
 "cells": [
  {
   "cell_type": "markdown",
   "metadata": {},
   "source": [
    "<h1 style=\"font-size:300%; font-family:Palatino;\">Recapping a PC Engine Duo - Crucial Details</h1>\n",
    "\n",
    "<div style=\"height:42px;display:table;\">\n",
    "  <div style=\"display:table-cell;vertical-align:middle;\">\n",
    "      <p style=\"color: #686868\">© James Dellinger, 2021</p>\n",
    "  </div>\n",
    "  <div style=\"display:table-cell;vertical-align:middle\">\n",
    "     <a href=\"https://twitter.com/jamrdell?ref_src=twsrc%5Etfw\">\n",
    "    <img alt=\"twitter logo\" src=\"duo_images/Twitter_Logo_Blue.png\" style=\"height:35px; width:35px; margin-right:5px; align=middle\" /></a>\n",
    "  </div> \n",
    "</div>"
   ]
  },
  {
   "cell_type": "markdown",
   "metadata": {},
   "source": [
    "![Duo Console](duo_images/duo_m_sz_h_qual.jpeg)\n",
    "\n",
    "Although first exposed to circuit board soldering in an 'Intro to Electronics' class during my freshman year of high school, I'd hardly touched an iron over the years that had passed since then, and it's thus safe to say that I embarked upon my journey toward successfully recapping a [PC Engine Duo](https://necretro.org/PC_Engine_Duo) as a complete novice.\n",
    "\n",
    "My efforts toward this end would have been doomed were it not for the troves of wisdom made freely available by folks like [Voultar](https://www.youtube.com/channel/UCiUAFHtzv_2xJHEjWIk1fOw) and [Simon Lock](https://aergan.wordpress.com/). In the write-up that follows below, I summarize the tips, tricks, and best practices that helped me get my old Duo working again. I'll also discuss the mistakes I made along the way, in hopes that doing so will enable others to avoid similar pitfalls.\n",
    "\n",
    "Finally, in a bonus section at the end, I detail how I successfully installed Voultar's [DuoRGB](https://voultar.com/index.php?route=product/product&product_id=53) board.\n",
    "\n",
    "## Most Valuable References\n",
    "1. Voultar's [instructional video](https://www.youtube.com/watch?v=oe0DvzKMNe4) covering the complete recapping process from start to finish. It's no exaggeration to say that this is *the seminal* soldering how-to video of our time.\n",
    "2. Simon Lock's [Twitter threads](https://aergan.wordpress.com/?s=pc+engine) that chronicle his experiences recapping different Duos and other PC Engines.\n",
    "3. 8bitplus' [blog post](http://8bitplus.co.uk/your-consoles/nec-pc-engine-duo-recap-rgb-upgrades/) that also describes the recapping process.\n",
    "4. Console5's [wiki page](https://console5.com/wiki/Turbo_Duo) for the Duo, in particular the capacitor [list](https://console5.com/wiki/Turbo_Duo#Capacitor_List) and map:\n",
    "    ![Duo Cap Map](https://console5.com/techwiki/images/9/9a/Turbo-Duo-Cap-Map.png)\n",
    "    <center><i>Image source: Console5 <a href=\"https://console5.com/wiki/File:Turbo-Duo-Cap-Map.png\">wiki</a></i></center>\n",
    "\n",
    "Voultar's video is geared towards relatively inexperienced solderers and is hands down the canonical walkthrough of the Duo recapping process. Simon Lock and 8bitplus' summaries confront the edge cases often encountered when working on Duo boards that have seen significant corrosion stemming from the original capacitors' electrolytic fluid leakage. Finally, the Console5 wiki is the place to turn when identifying and replacing circuit board components that have been corroded beyond repair."
   ]
  },
  {
   "cell_type": "markdown",
   "metadata": {},
   "source": [
    "## I. Pre-cleaning the Circuit Board\n",
    "![Corroded Duo Audio Circuit](duo_images/corroded_audio_circuit_m_sz_h_qual.jpeg)\n",
    "\n",
    "* Simon Lock [recommends](https://twitter.com/A3rgan/status/1279179686963224576) pre-cleaning the circuit board using either an ultrasonic cleaner, or a mixture containing: 99.9% IPA, spirit vinegar (that's been diluted to 12%~20% acetic acid), and sodium bicarbonate solution.\n",
    "* He [explains](https://twitter.com/A3rgan/status/1279180239059509252) that failing to do this before using a hot air rework station to remove the board's surface mount capacitors may well result in clogged vias.\n",
    "* What might happen: the hot air could cause previously leaked electrolytic fluid to mingle with factory flux, and this corrosive mixture may then seep into nearby vias.\n",
    "* Pre-cleaning should also reduce the amount of noxious electrolytic fluid vapors that emanate during hot air rework.\n",
    "\n",
    "### My First Mistake: Not Pre-Cleaning the PCB\n",
    "I performed no pre-cleaning prior to removing the SMD caps from my Duo's circuit board. And sure enough, I did have to clean *a lot* of clogged vias before the board's audio circuits began working properly with the replacement caps. \n",
    "\n",
    "What I'd do differently:\n",
    "* Absolutely invest in an ultrasonic cleaner.\n",
    "* Figure out what, if any, components on the board might be vulnerable to damage if placed in an ultrasonic bath, and be sure to remove these before commencing an ultrasonic cleaning."
   ]
  },
  {
   "cell_type": "markdown",
   "metadata": {},
   "source": [
    "## II. Removing the Old Surface Mount Capacitors\n",
    "Voultar recommends, and I concur, that removing all the old capacitors in one fell swoop is far more efficient than removing and replacing each capacitor, one by one. As to the question of how to remove the surface mount caps, there are a variety of approaches, but on this one point the experts [are unanimous](https://youtu.be/oe0DvzKMNe4?t=429): **don't ever use wirecutters**, as doing so will likely damage the solder pads underneath the caps.\n",
    "\n",
    "My preferred technique for removing surface mount caps is to use a hot air rework station; this method is also recommended by Voultar. A decent rework station costs less than &#0036;30.\n",
    "1. Voultar [says](https://youtu.be/oe0DvzKMNe4?t=580) to set the rework station's temperature to 320℃ and airflow to 50\\%. \n",
    "2. Hold the nozzle two inches above the cap to be removed and continuously rotate the nozzle in a circular motion. After 5-10 seconds of this, gently try to remove the cap using tweezers. If the solder underneath the cap is molten, it can be pulled off the board with no resistance.\n",
    "3. **Always cover nearby plastic components and IC chips with Kapton tape!** This prevents the hot air emitted from the nozzle from causing any unintended melting or other damage.\n",
    "4. **Wear safety goggles!** The hot air may cause old, damaged caps to explode and launch themselves right off the circuit board. Your skin can withstand this, but don't take any chances with your eyes.\n",
    "\n",
    "In addition to the danger of clogging vias, hot air rework will likely vaporize some of the leaked electrolytic fluid that hasn't been cleaned from the main board. These vapors carry a strange fish-like odor, and they are toxic when inhaled. Using a fume extractor will help mitigate this, but my hunch is that the best prevention is to pre-clean the board using an ultrasonic cleaner.\n",
    "\n",
    "Console5's wiki offers a [summary](https://console5.com/wiki/Converting_from_Surface_to_Leaded_Capacitors#Removing_the_old_capacitor) of other techniques for removing SMD capacitors. Note that 8bitplus prefers to individually heat the solder on each pad with an iron, slowly and gently lifting up on the corresponding side of the cap while doing so.\n",
    "\n",
    "### My Second Mistake: Melting the Volume Potentiometer\n",
    "Despite making (what I thought was) a careful attempt to thoroughly shield the thumbwheel volume potentiometer with Kapton tape, I melted half of the wheel when removing the nearby caps:\n",
    "\n",
    "![Melted Duo Stock Pot](duo_images/duo_vol_pot_m_sz_h_qual.jpeg)\n",
    "    \n",
    "What may have precipitated this:\n",
    "1. I did not apply Kapton tape to the *underside* of the potentiometer wheel, and instead only covered the top of the wheel and surrounding board with tape.\n",
    "2. I had already been working for two hours straight without a single break, and was unaware that my concentration had begun to wane.\n",
    "3. The volume potentiometer is simply just too close to the nearby SMD caps, and the probability of heating the solder underneath this caps without overheating the potentiometer's thin, plastic wheel is unacceptably high no matter the precautions taken. \n",
    "\n",
    "What I'd do differently:\n",
    "* Remove the volume potentiometer *before* performing hot air rework.\n",
    "\n",
    "### Side Note: Replacing the Duo's Stock Volume Potentiometer\n",
    "If, like me, you also need to replace your Duo's original volume pot, I firmly believe that the 10KΩ [Alps RK10J12E002L](https://tech.alpsalpine.com/prod/e/html/potentiometer/rotarypotentiometers/rkj1/rk10j12e002l.html) is the best possible option:\n",
    "\n",
    "![Alps Volume Pot](duo_images/Alps_RK10J12E002L_m_sz_h_qual.jpeg)\n",
    "![Alps Volume Pot and Duo Chassis](duo_images/alps_pot_duo_chassis_m_sz_h_qual.jpeg)\n",
    "\n",
    "It can be purchased at:\n",
    "* [Mouser](https://www.mouser.com/ProductDetail/Alps-Alpine/RK10J12E0A0A?qs=nR5Mw3RKkX43NuPtXzIvHQ%3D%3D)\n",
    "* [Seektronics](https://www.seektronics.com/index.php?route=product/product&path=217&product_id=5406)\n",
    "\n",
    "### FYI: More Details on the Duo's Stock Volume Potentiometer\n",
    "I've also written an [in-depth summary](james.page/potentiometer) of the characteristics of Duo's stock volume pot and explained why I prefer this replacement from Alps."
   ]
  },
  {
   "cell_type": "markdown",
   "metadata": {},
   "source": [
    "## III. Removing the Old Through-Hole Capacitors\n",
    "If it's at all possible within the confines of your budget, immediately invest in a proper desoldering tool. I purchased the [Hakko FR-301](https://www.amazon.com/American-HAKKO-Products-FR301-03-Desoldering/dp/B07BFVFMS9) and have been quite pleased.\n",
    "\n",
    "[SmokeMonster](https://www.youtube.com/c/SmokeMonster/featured) also [maintains](https://youtu.be/qiTgclhKD8I?t=2242) that, perhaps second only to the soldering iron itself, a desoldering gun has been the most useful equipment purchase he's made since taking up soldering as a hobby.\n",
    "\n",
    "### My Third Mistake: Not Buying a Desoldering Gun Sooner\n",
    "Unfortunately, I initially waited too long to purchase my Hakko FR-301, and instead first attempted to remove several of the through-hole capacitors using a simple manual solder sucker. This turned out to be a time-consuming undertaking that was fraught with danger -- I inadvertantly pulled half of one lead clear off the circuit board. \n",
    "\n",
    "When I *did* finally use the FR-301 for the first time, I promptly kicked myself for the penny-wise and pound-foolish attitude that had prevented me from purchasing this tool sooner.\n",
    "\n",
    "### If You're Stuck with a Manual Desolderer\n",
    "If you have simply no choice but to attempt to remove through-hole capacitors with a manual solder sucker, Voultar has demonstrated the proper technique [here](https://youtu.be/nC79VHZR2ns?t=356), [here](https://youtu.be/nC79VHZR2ns?t=662), and [here](https://youtu.be/Lp6BuMTceWs?t=2032) (NESRGB modding Cinemassacre's Top-Loader! 12-8-20 @ 33:52)."
   ]
  },
  {
   "cell_type": "markdown",
   "metadata": {},
   "source": [
    "## IV. Cleaning the Circuit Board Post-Cap Removal\n",
    "I believe that this is *the* most crucial step of the entire capacitor replacement process. Failing to remove any electrolytic fluid or corrosion still sitting on the circuit board at this point will doom your console to certain failure at some point in the future. Lightly scrubbing affected areas with IPA and a fiberglass pen or toothbrush is usually sufficient. Voultar demonstrates how [here](https://youtu.be/oe0DvzKMNe4?t=1410).\n",
    "\n",
    "### Cleaning Pads with Extensive Corrosion\n",
    "However, some SMD capacitor pads may be exceedingly corroded and light scrubbing with a fiberglass pen might not be enough to sufficiently restore conductivity:\n",
    "![SMD Pad with Stubborn Corrosion](duo_images/stubborn_corrosion_h_sz_h_qual.jpeg)\n",
    "\n",
    "To address these \"worst of the worst\" pads, I slowly and steadily repeated the following process as many times as necessary until the pad was free of corrosion:\n",
    "1. Add some fresh solder to the pad.\n",
    "2. Wick away the solder.\n",
    "3. Gently scrub with a fiberglass pen and IPA.\n",
    "\n",
    "It took me anywhere from 30-60 minutes to fully clear *each pad* that had stubborn corrosion. My mantra throughout was \"slow and gentle,\" as I didn't want to inadvertently lift these pads or breach nearby traces.\n",
    "\n",
    "Afterwards, I used solder to tin over any exposed copper:\n",
    "![SMD Pad Cleaned and Tinned](duo_images/cleaned_and_tinned_l_sz_h_qual.jpeg)\n",
    "\n",
    "### Unclogging Vias\n",
    "Astute readers will notice that two vias in the \"before\" version of the previous pic were completely clogged up with corrosion and vented electrolytic fluid:\n",
    "![Some Clogged Vias](duo_images/clogged_vias1_l_sz_h_qual.jpeg)\n",
    "\n",
    "This is a problem becase:\n",
    "1. These vias have *zero* conductivity!\n",
    "2. Unless fully removed, the dried electrolytic fluid inside the vias will continue to eat away at the board and corrode the connected copper traces.\n",
    "\n",
    "Unfortunately for me, there were several areas on my Duo's PCB with vias that were stopped up full of this corrosive gunk. I circled some of the worst offenders in the image below:\n",
    "![More Clogged Vias](duo_images/clogged_vias2_l_sz_h_qual.jpeg)\n",
    "\n",
    "Happily, I found that simply flushing many of these clogged up vias with a syringe full of IPA was enough to restore perfect conductivity.\n",
    "![Syringe with IPA](duo_images/syringe_m_sz_h_qual.jpeg)\n",
    "\n",
    "My technique was as follows:\n",
    "1. Choose a syringe tip with the same gauge as the via you want to clean.\n",
    "2. Slowly insert the tip into the via and gently begin to expel some IPA from the syringe.\n",
    "3. Once it becomes possible to do so, insert the syringe fully into the via so that it pokes fully through the circuit board.\n",
    "4. Press on the syringe to start expelling some more IPA. While you're doing this, slowly raise the syringe back out from inside of the via. As this happens, the IPA will come into contact with the inside of the via at a fairly high pressure and will do a good job of getting the passageway fully clear.\n",
    "5. Slowly and gently repeat until you're satisfied that the via is clear of corrossive debris.\n",
    "\n",
    "![Flushing a Via](duo_images/flushing_a_via_l_sz_h_qual.jpeg)\n",
    "\n",
    "I used a 30-gauge syringe tip for the smallest vias on the board and a 27-gauge tip for the next smallest vias. Both tips were both part of this handy set of syringe tips of various sizes that I found [on Amazon](https://www.amazon.com/gp/product/B077NZ9RPD/):\n",
    "![Syringe Tip Set](duo_images/syringe_tip_set_m_sz_h_qual.jpeg)\n",
    "\n",
    "With adequate visual inspection, you can very that vias are fully clear:\n",
    "![Clear Vias](duo_images/clear_vias_l_sz_h_qual.jpeg)\n",
    "\n",
    "(Note: there is no need to clear *all* the vias on the Duo's PCB. Many will appear to the eye to be clogged, but will actually only contain dust or other build-up that comes with age. The only vias you need be concerned with are those residing near SMD caps, that appear visually suspect, and that exhibit zero conductivity when measured with a DMM.)"
   ]
  },
  {
   "cell_type": "markdown",
   "metadata": {},
   "source": [
    "## V. Repairing Broken Traces and Missing Vias\n",
    "Unfortunately, there were several spots on my Duo PCB where simply flushing gunked-up electrolytic fluid out of the vias was not enough to restore continuity. There were more than a few areas where corrosion had completely rotted out the via and accompanying trace:\n",
    "![Broken Trace](duo_images/broken_trace.jpeg)\n",
    "\n",
    "After using a fiberglass pen to remove any persistent corrosion, I knitted these traces and vias back together using 30-gauge Kynar (wire wrapping) wire:\n",
    "![Knitted Via and Trace](duo_images/knitted_vias1_l_sz_h_qual.jpeg)\n",
    "\n",
    "My technique was to:\n",
    "1. Use a fiberglass pen to remove enough solder resist that's covering the still-uncorroded part of the trace, so as to expose a solderable copper surface.\n",
    "2. The thinner the trace, the longer the length of the portion of the trace that must be exposed. Soldering a longer span of Kynar wire on top of a thin trace allows for a stronger, more durable solder bond.\n",
    "3. Strip and cut a small length of 30-gauge Kynar wire (the [wire strippers recommended on Voultar's Amazon page](https://www.amazon.com/shop/voultar?listId=2TC0UEEJ06B8X) can accomplish this).\n",
    "4. Slip the stripped wire through the via until there is just enough Kynar wire remaining to cover the exposed portion of the copper trace. Then bend the wire at 90° so that it's flush with the PCB surface, and solder the wire to the exposed trace lengthwise (so that the length of the wire fully covers the length of the exposed trace).\n",
    "5. Turn the circuit board over and repeat steps 1. and 2. for the trace on the opposite side of the board that's connected to the via through which the you'd inserted the wire. \n",
    "6. Finally, cut still-unsoldered opposite end of the Kynar wire so it's long enough to cover the exposed portion of the trace just exposed in step 5., and ensuring that the wire is flush with the board surface, solder lengthwise to the trace. \n",
    "\n",
    "Note that 30-gauge Kynar wire is ideal because, after being stripped, it can fit through the smallest vias found on the Duo's PCB. I bought mine [here](https://www.elliottelectronicsupply.com/page-30-gauge-kynar-wire-wrap-white-50-foot-spool.html).\n",
    "\n",
    "If your Duo PCB is anything like mine, there could be numerous traces/vias that would need to be repaired. Visual inspection, coupled with painstaking continuity testing (using a DMM) of all traces and vias in areas damaged by corrosion helped me identify the best candidates for repair. \n",
    "\n",
    "Knitting vias back together is indeed a delicate, time-consuming process, but it's more than worth the peace of mind that comes with not having to worry that your Duo's mainboard might have a conduit that could fail at any time.\n",
    "![More Knitted Vias](duo_images/knitted_vias2_l_sz_h_qual.jpeg)\n",
    "![Even More Knitted Vias](duo_images/knitted_vias3_l_sz_h_qual.jpeg)\n",
    "![Still More Knitted Vias](duo_images/knitted_vias4_l_sz_h_qual.jpeg)\n",
    "![Last Pic of Knitted Vias](duo_images/knitted_vias5_l_sz_h_qual.jpeg)"
   ]
  },
  {
   "cell_type": "markdown",
   "metadata": {},
   "source": [
    "## VI. Soldering the Replacement Surface Mount Caps\n",
    "Replacement SMD cap kits can be [purchased from Console5](https://console5.com/store/nec-turbo-duo-pc-engine-duo-smd-cap-kit.html). Conveniently, this kit also includes the two ceramic capacitors needed for the jailbar fix. I also recommend ordering a replacement [memory backup supercapacitor](https://console5.com/store/33f-5-5v-memory-backup-capacitor-for-nec-systems-super-capacitor.html) and replacement [10,000𝜇F capacitor](https://console5.com/store/10-000uf-16v-electrolytic-capacitor-for-power-supply-and-ac-adapter-circuits.html) for the Duo's original NEC power supply from Console5 at the same time.\n",
    "\n",
    "Voultar's [explanation and demonstration](https://www.youtube.com/watch?t=2240&v=oe0DvzKMNe4) of how to solder surface mount capacitors is absolutely the gold standard. I watched and re-watched it multiple times before making my own initial attempt.\n",
    "\n",
    "The SMD cap soldering technique that ultimately worked best for me was:\n",
    "1. Add fresh solder to each of the two pads.\n",
    "2. Use a solder braid to wick all solder off each pad (removes any old solder that may have been contaminated by corrosion).\n",
    "3. Place the new cap on top of the pads and verify polarity.\n",
    "4. Add solder to the iron tip and, while using tweezers to keep the cap in place, lightly tack one of the cap's leads to its pad.\n",
    "5. Repeat for the cap's other lead.\n",
    "6. Add some more solder to each pad to ensure that the bonds are durable and robust.\n",
    "\n",
    "I prefer doing things this way because it makes it easier for me to affix the SMD caps so that they *flatly* sit on top of (flush with) the circuit board. I found that, at least in the case of the Duo's SMD caps, if I first locate the cap so that its center lies right in the middle of the two pads on the board, there is generally enough room to tack the tip of each of the cap's leads to its designated pad.\n",
    "\n",
    "### Side Note: Soldering Iron Tip Temperature\n",
    "I typically had my iron temperature set to 350℃ when soldering both surface mount and through-hole components. In his live streams, Voultar [often](https://youtu.be/UfGGJ7k3yC8?t=2720) (Soldering Madness! Testing new Workstation! 11-15-20 @ 45:20) [uses](https://youtu.be/WAKSF36CgKE?t=4482) (Legend of the NESRGB! AV Famicom Installation! 8-12-20 @ 1:14:42) a tip temperature that's around 330℃ to 350℃, and he [recommends](https://youtu.be/UfGGJ7k3yC8?t=2736) (Soldering Madness! Testing new Workstation! 11-15-20 @ 45:36) that novices start out by using a tip temperature that's between 300℃ and 320℃.\n",
    "\n",
    "Soldering tip shape and size can also have a bearing on temperature choice. When using larger tips like a [knife wedge](https://www.hakko.com/english/tip_selection/type_k.html) I'll set a lower tip temperature, while with smaller, [ultrafine tips](https://www.hakko.com/english/tip_selection/type_i.html) I've found that I need to set a higher temperature to get the job done.\n",
    "\n",
    "### My Fourth Mistake: Not First Performing Continuity Testing in Corroded Areas\n",
    "I replaced my system's old caps *before* first inspecting traces (both visually and by performing continuity tests) in areas on the PCB that had seen extensive electrolytic fluid venting. Afterward, when my system's audio still didn't function properly, I had to remove many of the newly installed caps, knit the broken traces/vias back together, and then solder caps a second set of replacements that I ordered from Console5. "
   ]
  },
  {
   "cell_type": "markdown",
   "metadata": {},
   "source": [
    "## Rounding onto the Home Stretch: What if My Duo's Audio Still Doesn't Work?\n",
    "It's possible that even after completing all the steps outlined above, you may find that your Duo's audio circuits are not all in working order. Below I'll describe some other fringe issues that might be at play."
   ]
  },
  {
   "cell_type": "markdown",
   "metadata": {},
   "source": [
    "## VII. Reflowing Corroded \"Solder Rocks\"\n",
    "I found that several solder joins on my Duo's PCB exhibited one or more of these strange phenomena: \n",
    "* Had a very dark gray or black color.\n",
    "* Was not conductive.\n",
    "* Had a surface that appeared irregular, unsmooth, and \"rocky.\"\n",
    "* Would not melt, even after 5+ seconds of continuous contact with a soldering iron at normal operating temperature.\n",
    "\n",
    "I took to referring to these kinds of solder joins by the silly-sounding term, \"solder rocks,\" figuring that such a label best encapsulated the strange characteristics I listed just above. Here are some that I observed on the underside of my Duo's PCB:\n",
    "![Duo Solder Rocks](duo_images/duo_solder_rocks_l_sz_h_qual.jpeg)\n",
    "\n",
    "Each of these \"solder rocks\" happened to be directly underneath areas where capacitors on the circuit board's top-side had vented profuse amounts of electrolytic fluid. I believe that over time, this fluid slowly polluted solder joins that were in its direct path:\n",
    "![Forming a Solder Rock](duo_images/formation_solder_rock_l_sz_h_qual.jpeg)\n",
    "\n",
    "I needed to reflow each affected area in order to restore conductivity and prevent further spread of corrosion. The tricky part was coming up with a way to remove the contaminated joins that were resistant to melting. Here's what I ultimately did:\n",
    "1. Repeat the process of adding fresh solder to the join and then wicking with a solder braid.\n",
    "2. Intermittently scrub the join (gently) with a fiberglass pen and IPA.\n",
    "\n",
    "The hardest part was striking the right balance between being aggressive enough to get rid of the stubborn old solder, and not being so rough that nearby traces/leads get damaged. In some places I got this right, and other in other areas I ultimately had to use Kynar wire to knit back together a trace that I inadvertently severed."
   ]
  },
  {
   "cell_type": "markdown",
   "metadata": {},
   "source": [
    "## VIII. Replacing One or More of the 4558 Op-Amp Chips\n",
    "In addition to seeping into certain solder joins, it's also true that electrolytic fluid can sometimes pool underneath one or more of the several [op-amp](https://console5.com/wiki/OpAmp_-_Dual) chips scattered about the Duo's audio circuitry.  Like IC506 just below, most of these op-amp chips cover traces and vias:\n",
    "![IC506](duo_images/ic506_m_sz_h_qual.jpeg)\n",
    "\n",
    "Had electrolytic been lying beneath the above chip, it's likely that the continuity of the vias underneath it would have been impaired. Indeed, Simon Lock has observed this in several of the [repairs he's completed](https://twitter.com/A3rgan/status/1175880170701578241?s=20) for his customers:\n",
    "![Corroded IC506](https://pbs.twimg.com/media/EFGR0vyXUAQmaD5?format=jpg&name=4096x4096)\n",
    "<center><i>Image source: Simon Lock's <a href=\"https://twitter.com/A3rgan/status/1175881327142408193/photo/3\">Twitter</a></i></center>\n",
    "\n",
    "Happily, [4558 op-amp](https://console5.com/store/rc4558-op-amp-nec-turbo-duo-audio-circuits-rc4558dr-4558-soic.html) chips are extremely affordable (~39 cents per chip), so if you suspect that one or more of your Duo's op-amp chips are concealing vented electrolytic fluid, you have virtually nothing to lose by:\n",
    "1. Removing the old chip.\n",
    "2. Thoroughly cleaning the area that was underneath it, then testing and repairing vias if necessary.\n",
    "3. Installing a replacement chip that you can [order from Console5](https://console5.com/store/rc4558-op-amp-nec-turbo-duo-audio-circuits-rc4558dr-4558-soic.html)."
   ]
  },
  {
   "cell_type": "markdown",
   "metadata": {},
   "source": [
    "## IX. Replacing other Components\n",
    "If you have other broken parts on your Duo circuit board, such as the [CD lid sensor switch](https://console5.com/store/turbo-duo-pc-engine-duo-cd-lid-pin-switch.html), chances are that Console5 [has you covered](https://console5.com/store/catalogsearch/result/index/?p=1&q=turbo+duo).\n",
    "\n",
    "### Other Commodity Chips\n",
    "But if you need to replace any [non-proprietary chips](https://console5.com/wiki/Turbo_Duo#Chips_.26_ICs) on your board that don't happen to be in-stock at Console5, you may have luck with [Mouser](https://www.mouser.com/), [Digi-Key](https://www.digikey.com/), or even eBay if you feel you can adequately vet the seller.\n",
    "\n",
    "For example, I had to replace my Duo's [M51131L volume balance chip](https://console5.com/wiki/M51131L) because its leads were  corroded beyond repair, and I was able locate a suitable replacement [on eBay](https://www.ebay.com/itm/M51131L-New-MITSUBISHI-IC-ZIP-14-2-CHANNEL-ELECTRONIC-VOLUME-BALANCE-STOCK-USA/362981433808). \n",
    "\n",
    "### Voltage Regulators\n",
    "Last of all, I noticed that in most of his Duo repairs, Simon Lock also [replaces](https://twitter.com/A3rgan/status/1175883105674190848) the system's two [7805 voltage regulators](https://console5.com/wiki/Regulator:_Positive_3-Terminal_78xx_Series). Seeing as how the stock 7805 regulators on any Duo are now upwards of 30 years old, I agree that replacing them is probably wise.\n",
    "\n",
    "The modern replacements for these chips cost 75 cents, each, and can also be found [at Console5](https://console5.com/store/7805-l78s05cv-high-output-2a-5v-voltage-regulator-3-pin-to-220-5v.html). Be sure not to forget to apply a fresh dab of thermal paste when you replace these. [Like Lock](https://twitter.com/A3rgan/status/1175883105674190848/photo/1), I also prefer Arctic Silver's [Ceramique formulation](http://www.arcticsilver.com/ceramique.htm), as it doesn't contain any electrically conductive ingredients in its mixture. You can find it [on Amazon](https://www.amazon.com/gp/product/B0087X73AM/)."
   ]
  },
  {
   "cell_type": "markdown",
   "metadata": {},
   "source": [
    "## X. Checking Your Work\n",
    "It's near-universally true that symptoms of circuit board corrosion on the PC Engine Duo will manifest through malfunctions in one the console's three audio circuits:\n",
    "\n",
    "1. [PSG](https://en.wikipedia.org/wiki/Programmable_sound_generator) synthesized wave-form sound (HuCard games use this)\n",
    "2. [CDDA](https://en.wikipedia.org/wiki/Compact_Disc_Digital_Audio) (CD audio - found in all CD-ROM games)\n",
    "3. [ADPCM](https://en.wikipedia.org/wiki/Adaptive_differential_pulse-code_modulation) speech synthesis\n",
    "\n",
    "Adding further complexity is the fact that each one of these three audio types that the system generates can be output over left and right stereo channels, and then sent on to stereo speakers via the 3.5mm headphone jack or the A/V port.\n",
    "\n",
    "### The 240p Test Suite\n",
    "The version of [Artemio's](https://twitter.com/Artemio) 240p Test Suite that's [customized for the Duo](http://junkerhq.net/xrgb/index.php?title=240p_test_suite#CD-ROM2.2FSuper_CDROM2_.28PCE_Duo.2FTurbo_Duo.29) offers the most scientific way to isolate and verify the functionality of each permutation of the console's complex audio chain:"
   ]
  },
  {
   "cell_type": "code",
   "execution_count": 2,
   "metadata": {},
   "outputs": [
    {
     "data": {
      "text/html": [
       "\n",
       "        <iframe\n",
       "            width=\"640\"\n",
       "            height=\"360\"\n",
       "            src=\"https://player.vimeo.com/video/519170403\"\n",
       "            frameborder=\"0\"\n",
       "            allowfullscreen\n",
       "        ></iframe>\n",
       "        "
      ],
      "text/plain": [
       "<IPython.lib.display.IFrame at 0x7f86483ef9d0>"
      ]
     },
     "execution_count": 2,
     "metadata": {},
     "output_type": "execute_result"
    }
   ],
   "source": [
    "from IPython.display import IFrame\n",
    "IFrame('https://player.vimeo.com/video/519170403', 640, 360)"
   ]
  },
  {
   "cell_type": "markdown",
   "metadata": {},
   "source": [
    "### How to Burn a Copy of the 240p Test Suite\n",
    "![240p Test Suite Burned to CD](duo_images/burned_240p_test_suite_m_sz_h_qual.jpeg)\n",
    "\n",
    "I [downloaded](https://sourceforge.net/projects/testsuite240p/files/PCE-TG16-SCD/) the Super CD-ROM² version:\n",
    "* This requires an [Arcade Card Duo](https://www.play-asia.com/arcade-card-duo/13/701zuk), or a [System Card 3.0](https://www.play-asia.com/super-system-card-ver-30/13/70127s).\n",
    "* I burned the test suite onto a CD-R using [ImgBurn](https://www.imgburn.com/) on Windows 10.\n",
    "* **Most Important**: be sure to have your cd-burning software to load the .cue file when burning (if you instead burn after selecting only the .iso file, extra audio tracks won't get burned to the disc and you'll be unable to test your Duo's CDDA audio):\n",
    "    ![Selecting the .cue file](duo_images/burning_240p_test_suite.png)\n",
    "\n",
    "### Other Ways to Test\n",
    "Simon Lock typically tests his completed repairs using both a HuCard game like [Street Fighter II Champion Edition](https://twitter.com/A3rgan/status/1133538328668770306) and the disc-based game [*Castlevania Dracula X: Rondo of Blood*](https://twitter.com/A3rgan/status/1175891840056406016). \n",
    "\n",
    "Rondo of Blood is probably the ideal test disc because, in addition to some extended animation and full-motion video sequences, this game's intro and first few minutes of gameplay utilize all three functionalities (PSG, CDDA, and ADPCM) of the Duo's audio chain:"
   ]
  },
  {
   "cell_type": "code",
   "execution_count": 3,
   "metadata": {},
   "outputs": [
    {
     "data": {
      "text/html": [
       "\n",
       "        <iframe\n",
       "            width=\"640\"\n",
       "            height=\"360\"\n",
       "            src=\"https://player.vimeo.com/video/536012669\"\n",
       "            frameborder=\"0\"\n",
       "            allowfullscreen\n",
       "        ></iframe>\n",
       "        "
      ],
      "text/plain": [
       "<IPython.lib.display.IFrame at 0x7f86589e5fa0>"
      ]
     },
     "execution_count": 3,
     "metadata": {},
     "output_type": "execute_result"
    }
   ],
   "source": [
    "IFrame('https://player.vimeo.com/video/536012669', 640, 360)"
   ]
  },
  {
   "cell_type": "markdown",
   "metadata": {},
   "source": [
    "As [explained here](https://forum.digitpress.com/forum/showthread.php?174579-PC-Engine-Duo-Sound-Problems-on-CD-games&p=2034850&viewfull=1#post2034850), ADPCM audio is used when the Grim Reaper gives his speech (at x:xx in the above video) as well as for the \"yaw\" sound effect heard in the same scene as Richter Belmont is driving his horse.\n",
    "\n",
    "For folks who don't happen to have a copy of Castlevania handy but still want to test how their Duo handles in-game ADPCM audio, [this thread](https://www.pcenginefans.com/forum/index.php?topic=22404.msg498367#msg498367) recommends a few other Duo games that fit the bill. It so happens that right at the start of playthrough in [*Y's III*](https://en.wikipedia.org/wiki/Ys_III:_Wanderers_from_Ys), there is an extended sequence of dialogue that is all done in ADPCM.\n",
    "\n",
    "Analyzing real-game PSG and CDDA audio is more straightforward, as it's a safe bet that most PC Engine Duo game discs will utilize both these formats. For example, the intro and initial gameplay of [*Ys Book I & II*](https://www.play-asia.com/ys-i-ii/13/70xny) provide an always-entertaining means of verifying that CDDA and PSG audio are working properly:"
   ]
  },
  {
   "cell_type": "code",
   "execution_count": 10,
   "metadata": {},
   "outputs": [
    {
     "data": {
      "text/html": [
       "\n",
       "        <iframe\n",
       "            width=\"640\"\n",
       "            height=\"360\"\n",
       "            src=\"https://player.vimeo.com/video/520428103\"\n",
       "            frameborder=\"0\"\n",
       "            allowfullscreen\n",
       "        ></iframe>\n",
       "        "
      ],
      "text/plain": [
       "<IPython.lib.display.IFrame at 0x7fa5a032e9a0>"
      ]
     },
     "execution_count": 10,
     "metadata": {},
     "output_type": "execute_result"
    }
   ],
   "source": [
    "IFrame('https://player.vimeo.com/video/520428103', 640, 360)"
   ]
  },
  {
   "cell_type": "markdown",
   "metadata": {},
   "source": [
    "### My Fifth Mistake: Not Using the CD Bench Testing Magnet\n",
    "On my first attempt to ascertain whether my repairs on my Duo were successful, I foolishly placed a game disc on the CD spindle and powered on the console without first securing the disc using the bench testing magnet that resides in the underside of the Duo chassis' lid.\n",
    "\n",
    "Once again, the superb Console5 [wiki](https://console5.com/wiki/Turbo_Duo#Bench_Testing_the_CD_Drive) shows just what to do:\n",
    "![How to bench test the Duo](https://console5.com/techwiki/images/c/cf/Turbo-Duo---Magnetic-CD-Hub.jpg)\n",
    "<center><i>Image source: Console5 <a href=\"https://console5.com/wiki/File:Turbo-Duo---Magnetic-CD-Hub.jpg\">wiki</a></i></center>\n",
    "\n",
    "Also, when bench testing be sure to tape down the CD lid sensor switch, otherwise the disc will not spin up when you select 'Run' (I used Kapton tape):\n",
    "![Taped Lid Sensor](duo_images/taped_lid_sensor_m_sz_h_qual.jpeg)"
   ]
  },
  {
   "cell_type": "markdown",
   "metadata": {},
   "source": [
    "## XI. Errata: The Jailbar Fix\n",
    "The Duo's jailbar issues can be fixed by replacing the ceramic capacitors **C923** and **C908**. Console5's [wiki](https://console5.com/wiki/Hu6260#CD-based_Systems) depicts their locations:\n",
    "![Jailbar Fix Locations](https://console5.com/techwiki/images/8/8b/Turbo-Duo---PC-Engine-Duo-PWA-3321-A-Jailbar-Fix-Locations.jpg)\n",
    "<center><i>Image source: Console5 <a href=\"https://console5.com/wiki/File:Turbo-Duo---PC-Engine-Duo-PWA-3321-A-Jailbar-Fix-Locations.jpg\">wiki</a></i></center>\n",
    "\n",
    "Voultar demonstrates how to perform this technique (on a Duo-R) [here](https://www.youtube.com/watch?t=1071&v=rhRww_SmKmc)."
   ]
  },
  {
   "cell_type": "markdown",
   "metadata": {},
   "source": [
    "## A Deeper Wisdom: The Best Way to Prevent Mistakes\n",
    "1. In all work you perform on the circuit board use finesse, not force.\n",
    "2. Devote your full attention, concentration, and focus to each individual muscle movement of each task. \n",
    "3. Mistakes can and will cascade, so take frequent breaks (especially if you just made a mistake)! Resist the urge to complete your Duo's restoration as quickly as possible. (The system is 30+ years old; things can always wait another day.)\n",
    "4. If (when) you make a mistake, don't beat yourself up. Take a deep breath, forgive yourself, and come up with a new plan of attack. With enough time, effort, and persistence, all mistakes (short of something catastrophic like melting a hole clear through the board's proprietary graphics chip) are fixable.\n",
    "\n",
    "My biggest blunders occurred when I had worked too long without taking time away from my workbench to rest and refresh. I didn't understand that as a novice, I lacked both the mental and muscle memory to be able to work for an extended duration without also seeing an exponential increase of the probability of my screwing something up (like melting the volume potentiometer wheel).\n",
    "\n",
    "Even more significantly, I found that mistakes often *cascaded* after I'd been working too long in one sitting; in a frenzied attempt to address the consequences of my first mishap, I inadvertently made a second mistake, and then so on and so forth. The best thing I could have done would have been to walk away once the first snafu occured, and then come back the following day with fresh pairs of eyes and hands, not to mention a revised and cohesive strategy!\n",
    "\n",
    "### My Sixth and Final Mistake: Not Taking Breaks\n",
    "Sadly, I learned all of the above lessons the hard way. When I first began this restoration project, I couldn't resist the temptation to want to rush to the finish line. I'd often extend a single working session for several hours, long after my concentration had waned.\n",
    "\n",
    "What I didn't understand at that time was that as far as projects like this go, consecutive days of *quality work* performed slowly and methodically compound much greater over the long term than one or two marathons of frenzied \"effort.\" \n",
    "\n",
    "I firmly believe that my initial ignorance of this general principle was a root cause of all other mistakes I described earlier in this write-up. "
   ]
  },
  {
   "cell_type": "markdown",
   "metadata": {},
   "source": [
    "## The Journey is Half the Reward\n",
    "To be sure, the promise of being able to play great games like *Ys* motivated me to stay the course and complete the repairs to my PC Engine Duo. Along the way, however, I was pleasantly surprised to find that the satisfaction I took from acquiring basic electronics knowledge and soldering skills all while steadily customizing my soldering workbench from scratch, may well have been what contributed the most toward making this an enjoyable journey:\n",
    "![Soldering Station](duo_images/workstation_l_sz_h_qual.jpeg)"
   ]
  },
  {
   "cell_type": "markdown",
   "metadata": {},
   "source": [
    "## But the Reward is Still the Reward, Too\n",
    "Once you have your Duo restored and in working order, the sky really is the limit. Not only will you have at your fingertips a library of amazing games to enjoy, but with a few extra steps, you'll be able to enjoy these offerings at a level of quality and fidelity that would have been impossible in the console's heyday. I recommend you consider:\n",
    "\n",
    "1. Installing [Voultar's DuoRGB board (and DIN-8 connector)](https://voultar.com/index.php?route=product/product&product_id=53)\n",
    "2. Then connecting the Duo to your TV using both:\n",
    "    * HD Retrovision's [Duo to Genesis/Mega Drive 2 Adapter](https://castlemaniagames.com/collections/hd-retrovision/products/hd-retrovision-turbo-duo)\n",
    "    * HD Retrovision's [Genesis/Mega Drive 2 Component Cable](https://www.hdretrovision.com/genesis)\n",
    "\n",
    "I did all this, and here was the breathtaking end result:"
   ]
  },
  {
   "cell_type": "code",
   "execution_count": 11,
   "metadata": {},
   "outputs": [
    {
     "data": {
      "text/html": [
       "\n",
       "        <iframe\n",
       "            width=\"640\"\n",
       "            height=\"360\"\n",
       "            src=\"https://player.vimeo.com/video/522449235\"\n",
       "            frameborder=\"0\"\n",
       "            allowfullscreen\n",
       "        ></iframe>\n",
       "        "
      ],
      "text/plain": [
       "<IPython.lib.display.IFrame at 0x7fa5903b0640>"
      ]
     },
     "execution_count": 11,
     "metadata": {},
     "output_type": "execute_result"
    }
   ],
   "source": [
    "# TODO: Link to Strider Hiryu vid on Vimeo\n",
    "IFrame('https://player.vimeo.com/video/522449235', 640, 360)"
   ]
  },
  {
   "cell_type": "markdown",
   "metadata": {},
   "source": [
    "## Bonus: Installing [Voultar's DuoRGB Board](https://voultar.com/index.php?route=product/product&product_id=53) in a PC Engine Duo\n",
    "\n",
    "The best way to prepare to perform this installation is to watch the [video](https://www.youtube.com/watch?v=rhRww_SmKmc) where Voultar demonstrates how to install his RGB board in a [PC Engine Duo-RX](https://en.wikipedia.org/wiki/TurboDuo#Marketing). \n",
    "\n",
    "However, because the layout of the Duo's mainboard is somewhat different from the Duo-RX's, I'd like to add some extra details on how I went about fitting this expansion board inside my Duo.\n",
    "\n",
    "### 1. Location\n",
    "I chose to let the RGB board rest on top of the two Oki chips (IC509 and IC510), located just to right of the [memory backup supercapacitor](https://console5.com/store/33f-5-5v-memory-backup-capacitor-for-nec-systems-super-capacitor.html) in the upper right-hand corner of the mainboard:\n",
    "![DuoRGB Location on Duo PCB](duo_images/rgb_board_loc_l_sz_m_qual.jpeg)\n",
    "\n",
    "Note that I did not glue the DuoRGB board, or tape it down. I cut its attached wires to such a length that would ensure they'd be taut enough to prevent the RGB board from sliding around inside the Duo's chassis.\n",
    "\n",
    "### 2. Wiring\n",
    "I wired the RGB board's inputs to six pins on two chips located on the reverse side of the Duo's PCB:\n",
    "![RGB Wiring on Duo PCB Underside](duo_images/rgb_underside_wiring_l_sz_m_qual.jpeg)\n",
    "\n",
    "#### A. RGB and Csync\n",
    "Red, green, blue, and csync are drawn from four pins on the [HuC6260 chip](https://console5.com/wiki/Hu6260) (IC903):\n",
    "```\n",
    "Pin 44: Csync\n",
    "Pin 47: Green\n",
    "Pin 49: Red\n",
    "Pin 51: Blue\n",
    "```\n",
    "![HuC6260 RGBSync Pins](duo_images/HuC6260_rgbs_pins_l_sz_h_qual.jpeg)\n",
    "\n",
    "#### B. +5V Power and Ground\n",
    "I followed Voultar's recommendation and grabbed both power and ground from two pins on the NEC drive controller chip (IC501):\n",
    "```\n",
    "Pin 60: Ground\n",
    "Pin 61: +5V Power\n",
    "```\n",
    "![IC501 Power and Ground Pins](duo_images/IC501_pwr_gnd_pins_l_sz_h_qual.jpeg)\n",
    "\n",
    "### 3. Regarding Wire Tautness and Sturdy Solder Joins\n",
    "I did not use hot glue, electrical tape, or any other adhesive to ensure that the RGB board and attached wires stay in place. Instead, I cut my wires to an optimal length so that they would:\n",
    "1. Be taught enough to stay in place.\n",
    "2. Still have enough play to prevent undue stress to solder joins.\n",
    "\n",
    "![Taut Wiring and Sturdy Soldering 1](duo_images/taut_sturdy_wiring1_l_sz_h_qual.jpeg)\n",
    "![Taut Wiring and Sturdy Soldering 2](duo_images/taut_sturdy_wiring2_l_sz_h_qual.jpeg)\n",
    "<center><i>Voultar's videos make this kind of soldering appear far easier than it actually is!</i></center>\n",
    "\n",
    "Voultar consistently maintains, and I concur, that with decent materials (leaded solder, flux) and proper technique, solder joins can be sturdy enough to withstand moderately vigourous jostling without the aid of hot glue. Make no mistake, however, that soldering wires to IC pins is *really difficult*! The best advice I can give is: watch Voultar's videos and then practice, practice, practice.\n",
    "\n",
    "### 4. Preparing the Replacement DIN-8 Connector\n",
    "Customers have the option of ordering a very high quality 8-pin DIN connector when [purchasing](https://voultar.com/index.php?route=product/product&product_id=53) Voultar's DuoRGB board. I recommend doing this, and below I provide a summary of the modifications that Voultar [recommends](https://youtu.be/rhRww_SmKmc?t=229) be performed in order to configure this connector for compatibility with the Duo's mainboard:\n",
    "\n",
    "#### A.  Re-use the Two Anchor Ground Pins from the Duo's Original DIN-5 Connector\n",
    "Doing this means you won't have to drill any new holes in the Duo's PCB:\n",
    "![DIN-8 Anchor Ground Pin](duo_images/din8_anchor_ground_m_sz_h_qual.jpeg)\n",
    "\n",
    "#### B. Cut the Blue, Green, Red, and Csync Pins Short but Not Too Short\n",
    "The DIN-8 connector's blue, green, red, and csync pins will be wired directly to the DuoRGB board. As such, these four pins must be shortened so that there is no chance they could ever come into contact with the Duo's circuit board.\n",
    "\n",
    "However, if cut too short, there's a significant risk that these pins will come into contact and short each other out. This is because there won't be anything holding them firmly in place inside the DIN-8's housing. Voultar's [solution](https://youtu.be/rhRww_SmKmc?t=440) is to cut these four pins short enough such that their tips lie above the surface of the main board, while at the same time ensuring that afterwards the pins will still be long enough to reside inside DIN-8 connector's lower plastic housing.\n",
    "\n",
    "Here's how I ensured that I could successfully accomplish this:\n",
    "\n",
    "The length from the top of the blue/red pins to the bottom of the lower part of the DIN-8's plastic housing is 10.2mm:\n",
    "![Top of Blue/Red Pins to Bottom of Plastic Housing](duo_images/din8_pin_top_housing_bottom_m_sz_h_qual.jpeg)\n",
    "\n",
    "And the length from the top of the blue/red pins to the top of the lower plastic housing is 8.3mm:\n",
    "![Top of Blue/Red Pins to Top of Plastic Housing](duo_images/din8_pin_top_housing_top_m_sz_h_qual.jpeg)\n",
    "\n",
    "So if we cut the blue and red pins (located on the left/right sides of the connector's rear row of pins) to a length of 9.25mm, we can ensure that their tips will lie halfway in between the top and bottom of the lower part of the DIN-8 connector's plastic housing:\n",
    "![Ideal Cut Length](duo_images/din8_ideal_cut_length_m_sz_h_qual.jpeg)\n",
    "\n",
    "If you then cut the green (center-rear) and csync (right-front, if you're looking at the DIN-8 connector from behind) such that their tips are level with those of the freshly cut blue and red pins, you'll be able to ensure that all four pins are stable and snug, yet still well out of danger of ever touching the mainboard:\n",
    "![All Four Pins Cut](duo_images/din8_all_pins_cut_m_sz_h_qual.jpeg)\n",
    "\n",
    "#### C. Removing Part of the Plastic Backing\n",
    "The DIN-8 connector that Voultar ships comes with a plastic backside that will need to be partially removed in order to make it easier to solder the blue, green, and red wires to their respective pins.\n",
    "He explains what to do in this [video](https://www.youtube.com/watch?v=KQpQMA-R130).\n",
    "\n",
    "Here's how I altered the plastic back:\n",
    "![Plastic Backing Partially Cut Away](duo_images/din8_backside_cutaway_m_sz_h_qual.jpeg)\n",
    "\n",
    "Cutting the notch out of the center made it easier for me to solder the green wire to its pin:\n",
    "![Plastic Backing Green Pin Exposed](duo_images/din8_backside_notch_m_sz_h_qual.jpeg)\n",
    "\n",
    "#### D. Soldering the Blue, Green, Red, and Csync Wires\n",
    "Here is how I soldered the blue, green, red, and csync wires to their respective pins:\n",
    "![DIN-8 Pinout](duo_images/din8_pinout_l_sz_h_qual.jpeg)\n",
    "\n",
    "And finally, here is an up-close view that better depicts the location of the csync pin at the front of the right side:\n",
    "![Up-Close View of the DIN8 Connector and its Csync Pin](duo_images/din8_up_close_with_csync_pin_l_sz_h_qual.jpeg)\n",
    "\n",
    "Notice how I soldered the green wire along the length of the back edge of its pin (at the center-rear). This was why I cut that extra notch out of the DIN-8 connector's plastic backing.\n",
    "\n",
    "### Don't Give Up!\n",
    "If your journey is anything like mine was, you'll experience what may feel like a never-ending stream of setbacks as you forge ahead in your sojourn to recap, repair, and RGB-mod your PC Engine Duo. There were several junctures where I felt like I was one step away from giving up and washing my hands of the whole endeavor. \n",
    "\n",
    "Even so, I pushed forward and can now whole-heartedly say that I'm glad I did. It's difficult to express how satisfying it feels to have been able to bring this console back from the dead, make it better than ever, and transform it into a fully operational, RGB-enabled PC Engine Duo:\n",
    "![A Fully Operational, RGB-Enabled PC Engine Duo](duo_images/completed_duo_l_sz_h_qual.jpeg)"
   ]
  }
 ],
 "metadata": {
  "kernelspec": {
   "display_name": "Python 3",
   "language": "python",
   "name": "python3"
  },
  "language_info": {
   "codemirror_mode": {
    "name": "ipython",
    "version": 3
   },
   "file_extension": ".py",
   "mimetype": "text/x-python",
   "name": "python",
   "nbconvert_exporter": "python",
   "pygments_lexer": "ipython3",
   "version": "3.8.5"
  }
 },
 "nbformat": 4,
 "nbformat_minor": 2
}
